{
 "cells": [
  {
   "cell_type": "code",
   "execution_count": 1,
   "id": "76a13761",
   "metadata": {
    "_cell_guid": "b1076dfc-b9ad-4769-8c92-a6c4dae69d19",
    "_uuid": "8f2839f25d086af736a60e9eeb907d3b93b6e0e5",
    "execution": {
     "iopub.execute_input": "2022-03-24T04:32:30.627264Z",
     "iopub.status.busy": "2022-03-24T04:32:30.626044Z",
     "iopub.status.idle": "2022-03-24T04:32:30.638211Z",
     "shell.execute_reply": "2022-03-24T04:32:30.638761Z",
     "shell.execute_reply.started": "2022-03-24T03:51:22.643667Z"
    },
    "papermill": {
     "duration": 0.032835,
     "end_time": "2022-03-24T04:32:30.639104",
     "exception": false,
     "start_time": "2022-03-24T04:32:30.606269",
     "status": "completed"
    },
    "tags": []
   },
   "outputs": [
    {
     "name": "stdout",
     "output_type": "stream",
     "text": [
      "/kaggle/input/titanic/train.csv\n",
      "train.csv\n",
      "/kaggle/input/titanic/test.csv\n",
      "test.csv\n",
      "/kaggle/input/titanic/gender_submission.csv\n",
      "gender_submission.csv\n"
     ]
    }
   ],
   "source": [
    "# This Python 3 environment comes with many helpful analytics libraries installed\n",
    "# It is defined by the kaggle/python Docker image: https://github.com/kaggle/docker-python\n",
    "# For example, here's several helpful packages to load\n",
    "\n",
    "import numpy as np # linear algebra\n",
    "import pandas as pd # data processing, CSV file I/O (e.g. pd.read_csv)\n",
    "\n",
    "# Input data files are available in the read-only \"../input/\" directory\n",
    "# For example, running this (by clicking run or pressing Shift+Enter) will list all files under the input directory\n",
    "\n",
    "import os\n",
    "for dirname, _, filenames in os.walk('/kaggle/input'):\n",
    "    for filename in filenames:\n",
    "        print(os.path.join(dirname, filename))\n",
    "        print(filename)\n",
    "\n",
    "# You can write up to 20GB to the current directory (/kaggle/working/) that gets preserved as output when you create a version using \"Save & Run All\" \n",
    "# You can also write temporary files to /kaggle/temp/, but they won't be saved outside of the current session"
   ]
  },
  {
   "cell_type": "code",
   "execution_count": 2,
   "id": "628916ce",
   "metadata": {
    "execution": {
     "iopub.execute_input": "2022-03-24T04:32:30.678382Z",
     "iopub.status.busy": "2022-03-24T04:32:30.677637Z",
     "iopub.status.idle": "2022-03-24T04:32:31.793445Z",
     "shell.execute_reply": "2022-03-24T04:32:31.792884Z",
     "shell.execute_reply.started": "2022-03-24T04:11:26.395924Z"
    },
    "papermill": {
     "duration": 1.13673,
     "end_time": "2022-03-24T04:32:31.793611",
     "exception": false,
     "start_time": "2022-03-24T04:32:30.656881",
     "status": "completed"
    },
    "tags": []
   },
   "outputs": [],
   "source": [
    "train = pd.read_csv('../input/titanic/train.csv')\n",
    "test = pd.read_csv('../input/titanic/test.csv')\n",
    "\n",
    "from sklearn.preprocessing import OrdinalEncoder\n",
    "train = train.drop(['Name'], axis = 1)"
   ]
  },
  {
   "cell_type": "markdown",
   "id": "bcc08b38",
   "metadata": {
    "papermill": {
     "duration": 0.014368,
     "end_time": "2022-03-24T04:32:31.822656",
     "exception": false,
     "start_time": "2022-03-24T04:32:31.808288",
     "status": "completed"
    },
    "tags": []
   },
   "source": [
    "## Points to think about\n",
    "- does ticket number matter (is there information that you can get from ticket number)\n",
    "- need to use cabin, but for right now I'm leaving it out"
   ]
  },
  {
   "cell_type": "markdown",
   "id": "c165b2cc",
   "metadata": {
    "papermill": {
     "duration": 0.014328,
     "end_time": "2022-03-24T04:32:31.851909",
     "exception": false,
     "start_time": "2022-03-24T04:32:31.837581",
     "status": "completed"
    },
    "tags": []
   },
   "source": [
    "# Preprocessing Steps"
   ]
  },
  {
   "cell_type": "code",
   "execution_count": 3,
   "id": "214febf8",
   "metadata": {
    "execution": {
     "iopub.execute_input": "2022-03-24T04:32:31.891717Z",
     "iopub.status.busy": "2022-03-24T04:32:31.891073Z",
     "iopub.status.idle": "2022-03-24T04:32:31.896935Z",
     "shell.execute_reply": "2022-03-24T04:32:31.897400Z",
     "shell.execute_reply.started": "2022-03-24T04:11:27.683171Z"
    },
    "papermill": {
     "duration": 0.031117,
     "end_time": "2022-03-24T04:32:31.897581",
     "exception": false,
     "start_time": "2022-03-24T04:32:31.866464",
     "status": "completed"
    },
    "tags": []
   },
   "outputs": [],
   "source": [
    "oe_sex = OrdinalEncoder()\n",
    "oe_embarked = OrdinalEncoder()\n",
    "train['sex_encoded'] = oe_sex.fit_transform(train[['Sex']])\n",
    "train['embarked_encoded'] = oe_embarked.fit_transform(train[['Embarked']])"
   ]
  },
  {
   "cell_type": "code",
   "execution_count": 4,
   "id": "006d2ded",
   "metadata": {
    "execution": {
     "iopub.execute_input": "2022-03-24T04:32:31.933671Z",
     "iopub.status.busy": "2022-03-24T04:32:31.933024Z",
     "iopub.status.idle": "2022-03-24T04:32:31.936030Z",
     "shell.execute_reply": "2022-03-24T04:32:31.936559Z",
     "shell.execute_reply.started": "2022-03-24T04:11:28.255219Z"
    },
    "papermill": {
     "duration": 0.024467,
     "end_time": "2022-03-24T04:32:31.936721",
     "exception": false,
     "start_time": "2022-03-24T04:32:31.912254",
     "status": "completed"
    },
    "tags": []
   },
   "outputs": [],
   "source": [
    "train = train.drop(['PassengerId','Sex', 'Ticket', 'Embarked', 'Cabin'], axis = 1)"
   ]
  },
  {
   "cell_type": "code",
   "execution_count": 5,
   "id": "010c779e",
   "metadata": {
    "execution": {
     "iopub.execute_input": "2022-03-24T04:32:31.969834Z",
     "iopub.status.busy": "2022-03-24T04:32:31.969191Z",
     "iopub.status.idle": "2022-03-24T04:32:31.979063Z",
     "shell.execute_reply": "2022-03-24T04:32:31.979587Z",
     "shell.execute_reply.started": "2022-03-24T04:26:49.391143Z"
    },
    "papermill": {
     "duration": 0.028371,
     "end_time": "2022-03-24T04:32:31.979752",
     "exception": false,
     "start_time": "2022-03-24T04:32:31.951381",
     "status": "completed"
    },
    "tags": []
   },
   "outputs": [
    {
     "data": {
      "text/plain": [
       "Survived              0\n",
       "Pclass                0\n",
       "Age                 177\n",
       "SibSp                 0\n",
       "Parch                 0\n",
       "Fare                  0\n",
       "sex_encoded           0\n",
       "embarked_encoded      2\n",
       "dtype: int64"
      ]
     },
     "execution_count": 5,
     "metadata": {},
     "output_type": "execute_result"
    }
   ],
   "source": [
    "train.isna().sum(axis=0)"
   ]
  },
  {
   "cell_type": "code",
   "execution_count": 6,
   "id": "7f6025b1",
   "metadata": {
    "execution": {
     "iopub.execute_input": "2022-03-24T04:32:32.013857Z",
     "iopub.status.busy": "2022-03-24T04:32:32.013211Z",
     "iopub.status.idle": "2022-03-24T04:32:32.021619Z",
     "shell.execute_reply": "2022-03-24T04:32:32.022094Z",
     "shell.execute_reply.started": "2022-03-24T04:26:54.955916Z"
    },
    "papermill": {
     "duration": 0.027407,
     "end_time": "2022-03-24T04:32:32.022271",
     "exception": false,
     "start_time": "2022-03-24T04:32:31.994864",
     "status": "completed"
    },
    "tags": []
   },
   "outputs": [],
   "source": [
    "x = train.drop(['Survived'], axis =1)\n",
    "x = x.fillna(train.mean())\n",
    "y = train[['Survived']]"
   ]
  },
  {
   "cell_type": "code",
   "execution_count": 7,
   "id": "47ad7732",
   "metadata": {
    "execution": {
     "iopub.execute_input": "2022-03-24T04:32:32.056217Z",
     "iopub.status.busy": "2022-03-24T04:32:32.055573Z",
     "iopub.status.idle": "2022-03-24T04:32:32.064834Z",
     "shell.execute_reply": "2022-03-24T04:32:32.064336Z",
     "shell.execute_reply.started": "2022-03-24T04:27:04.255527Z"
    },
    "papermill": {
     "duration": 0.027594,
     "end_time": "2022-03-24T04:32:32.064976",
     "exception": false,
     "start_time": "2022-03-24T04:32:32.037382",
     "status": "completed"
    },
    "tags": []
   },
   "outputs": [
    {
     "data": {
      "text/plain": [
       "Pclass              0\n",
       "Age                 0\n",
       "SibSp               0\n",
       "Parch               0\n",
       "Fare                0\n",
       "sex_encoded         0\n",
       "embarked_encoded    0\n",
       "dtype: int64"
      ]
     },
     "execution_count": 7,
     "metadata": {},
     "output_type": "execute_result"
    }
   ],
   "source": [
    "x.isna().sum(axis=0)"
   ]
  },
  {
   "cell_type": "code",
   "execution_count": 8,
   "id": "991baf20",
   "metadata": {
    "execution": {
     "iopub.execute_input": "2022-03-24T04:32:32.102451Z",
     "iopub.status.busy": "2022-03-24T04:32:32.101744Z",
     "iopub.status.idle": "2022-03-24T04:32:32.159432Z",
     "shell.execute_reply": "2022-03-24T04:32:32.159951Z",
     "shell.execute_reply.started": "2022-03-24T04:27:22.666045Z"
    },
    "papermill": {
     "duration": 0.079121,
     "end_time": "2022-03-24T04:32:32.160136",
     "exception": false,
     "start_time": "2022-03-24T04:32:32.081015",
     "status": "completed"
    },
    "tags": []
   },
   "outputs": [],
   "source": [
    "from sklearn.model_selection import train_test_split\n",
    "\n",
    "x_train, x_test, y_train, y_test = train_test_split(x, y, test_size = 0.2)"
   ]
  },
  {
   "cell_type": "code",
   "execution_count": 9,
   "id": "eb0e491c",
   "metadata": {
    "execution": {
     "iopub.execute_input": "2022-03-24T04:32:32.198944Z",
     "iopub.status.busy": "2022-03-24T04:32:32.198282Z",
     "iopub.status.idle": "2022-03-24T04:32:32.663650Z",
     "shell.execute_reply": "2022-03-24T04:32:32.664404Z",
     "shell.execute_reply.started": "2022-03-24T04:27:23.184600Z"
    },
    "papermill": {
     "duration": 0.488474,
     "end_time": "2022-03-24T04:32:32.664637",
     "exception": false,
     "start_time": "2022-03-24T04:32:32.176163",
     "status": "completed"
    },
    "tags": []
   },
   "outputs": [
    {
     "name": "stdout",
     "output_type": "stream",
     "text": [
      "0.7430167597765364\n"
     ]
    },
    {
     "name": "stderr",
     "output_type": "stream",
     "text": [
      "/opt/conda/lib/python3.7/site-packages/ipykernel_launcher.py:13: DataConversionWarning: A column-vector y was passed when a 1d array was expected. Please change the shape of y to (n_samples,), for example using ravel().\n",
      "  del sys.path[0]\n"
     ]
    },
    {
     "name": "stdout",
     "output_type": "stream",
     "text": [
      "0.776536312849162\n"
     ]
    }
   ],
   "source": [
    "from sklearn.tree import DecisionTreeClassifier\n",
    "from sklearn.ensemble import RandomForestClassifier\n",
    "from sklearn.metrics import accuracy_score\n",
    "\n",
    "tree = DecisionTreeClassifier()\n",
    "forest = RandomForestClassifier()\n",
    "\n",
    "tree.fit(x_train, y_train)\n",
    "y_pred = tree.predict(x_test)\n",
    "\n",
    "print(accuracy_score(y_test, y_pred))\n",
    "\n",
    "forest.fit(x_train, y_train)\n",
    "y_pred = forest.predict(x_test)\n",
    "\n",
    "print(accuracy_score(y_test, y_pred))"
   ]
  },
  {
   "cell_type": "code",
   "execution_count": null,
   "id": "6911539f",
   "metadata": {
    "execution": {
     "iopub.execute_input": "2022-03-24T04:29:49.851974Z",
     "iopub.status.busy": "2022-03-24T04:29:49.851705Z",
     "iopub.status.idle": "2022-03-24T04:29:49.874482Z",
     "shell.execute_reply": "2022-03-24T04:29:49.873003Z",
     "shell.execute_reply.started": "2022-03-24T04:29:49.851946Z"
    },
    "papermill": {
     "duration": 0.016373,
     "end_time": "2022-03-24T04:32:32.698495",
     "exception": false,
     "start_time": "2022-03-24T04:32:32.682122",
     "status": "completed"
    },
    "tags": []
   },
   "outputs": [],
   "source": []
  },
  {
   "cell_type": "code",
   "execution_count": 10,
   "id": "a4c893c6",
   "metadata": {
    "execution": {
     "iopub.execute_input": "2022-03-24T04:32:32.735419Z",
     "iopub.status.busy": "2022-03-24T04:32:32.734497Z",
     "iopub.status.idle": "2022-03-24T04:32:32.742910Z",
     "shell.execute_reply": "2022-03-24T04:32:32.743426Z",
     "shell.execute_reply.started": "2022-03-24T04:31:12.989667Z"
    },
    "papermill": {
     "duration": 0.028403,
     "end_time": "2022-03-24T04:32:32.743597",
     "exception": false,
     "start_time": "2022-03-24T04:32:32.715194",
     "status": "completed"
    },
    "tags": []
   },
   "outputs": [
    {
     "data": {
      "text/plain": [
       "<891x3 sparse matrix of type '<class 'numpy.float64'>'\n",
       "\twith 891 stored elements in Compressed Sparse Row format>"
      ]
     },
     "execution_count": 10,
     "metadata": {},
     "output_type": "execute_result"
    }
   ],
   "source": [
    "from sklearn.preprocessing import OneHotEncoder\n",
    "\n",
    "ohe = OneHotEncoder()\n",
    "ohe.fit_transform(x[['Pclass']])"
   ]
  },
  {
   "cell_type": "code",
   "execution_count": null,
   "id": "80d455d0",
   "metadata": {
    "papermill": {
     "duration": 0.018153,
     "end_time": "2022-03-24T04:32:32.778655",
     "exception": false,
     "start_time": "2022-03-24T04:32:32.760502",
     "status": "completed"
    },
    "tags": []
   },
   "outputs": [],
   "source": []
  }
 ],
 "metadata": {
  "kernelspec": {
   "display_name": "Python 3",
   "language": "python",
   "name": "python3"
  },
  "language_info": {
   "codemirror_mode": {
    "name": "ipython",
    "version": 3
   },
   "file_extension": ".py",
   "mimetype": "text/x-python",
   "name": "python",
   "nbconvert_exporter": "python",
   "pygments_lexer": "ipython3",
   "version": "3.7.12"
  },
  "papermill": {
   "default_parameters": {},
   "duration": 13.179591,
   "end_time": "2022-03-24T04:32:33.505159",
   "environment_variables": {},
   "exception": null,
   "input_path": "__notebook__.ipynb",
   "output_path": "__notebook__.ipynb",
   "parameters": {},
   "start_time": "2022-03-24T04:32:20.325568",
   "version": "2.3.3"
  }
 },
 "nbformat": 4,
 "nbformat_minor": 5
}
